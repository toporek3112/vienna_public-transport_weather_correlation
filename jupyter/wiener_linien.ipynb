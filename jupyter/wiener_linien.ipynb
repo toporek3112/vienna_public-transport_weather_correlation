{
 "cells": [
  {
   "cell_type": "code",
   "execution_count": 2,
   "metadata": {},
   "outputs": [],
   "source": [
    "import pandas as pd\n",
    "import folium"
   ]
  },
  {
   "cell_type": "code",
   "execution_count": null,
   "metadata": {},
   "outputs": [],
   "source": [
    "# Website: https://www.data.gv.at/katalog/dataset/ab4a73b6-1c2d-42e1-b4d9-049e04889cf0#resources\n",
    "# ZIP: http://www.wienerlinien.at/ogd_realtime/doku/ogd/gtfs/gtfs.zip\n",
    "\n",
    "df_agency = pd.read_csv(\"data/agency.txt\")\n",
    "df_calendar_dates = pd.read_csv(\"data/calendar_dates.txt\")\n",
    "df_calendar = pd.read_csv(\"data/calendar.txt\")\n",
    "df_routes = pd.read_csv(\"data/routes.txt\")\n",
    "df_shapes = pd.read_csv(\"data/shapes.txt\")\n",
    "df_stop_times = pd.read_csv(\"data/stop_times.txt\")\n",
    "df_stops = pd.read_csv(\"data/stops.txt\")\n",
    "df_trips = pd.read_csv(\"data/trips.txt\")"
   ]
  },
  {
   "cell_type": "code",
   "execution_count": 4,
   "metadata": {},
   "outputs": [],
   "source": [
    "# Create base map centered around first stop\n",
    "center_lat = df_stops['stop_lat'].mean()\n",
    "center_lon = df_stops['stop_lon'].mean()\n",
    "m = folium.Map(location=[center_lat, center_lon], zoom_start=12)\n",
    "\n",
    "# Plot stops\n",
    "for _, row in df_stops.iterrows():\n",
    "  folium.CircleMarker(\n",
    "    location=[row['stop_lat'], row['stop_lon']],\n",
    "    radius=3,\n",
    "    popup=row['stop_name'],\n",
    "    color='blue',\n",
    "    fill=True\n",
    "  ).add_to(m)\n",
    "\n",
    "# Draw shapes if present\n",
    "# if not df_shapes.empty:\n",
    "df_lines = df_shapes[\n",
    "  (df_shapes['shape_id'].str.contains('U1')) |\n",
    "  (df_shapes['shape_id'].str.contains('U2')) |\n",
    "  (df_shapes['shape_id'].str.contains('U3')) |\n",
    "  (df_shapes['shape_id'].str.contains('U4')) |\n",
    "  (df_shapes['shape_id'].str.contains('U6'))\n",
    "  ]\n",
    "\n",
    "for shape_id in df_lines['shape_id'].unique():\n",
    "  shape_points = df_shapes[df_shapes['shape_id'] == shape_id].sort_values('shape_pt_sequence')\n",
    "  coords = list(zip(shape_points['shape_pt_lat'], shape_points['shape_pt_lon']))\n",
    "  folium.PolyLine(coords, weight=2, color='orange').add_to(m)\n",
    "\n",
    "\n",
    "# Save or display\n",
    "m.save(\"gtfs_map.html\")"
   ]
  },
  {
   "cell_type": "code",
   "execution_count": 7,
   "metadata": {},
   "outputs": [
    {
     "name": "stdout",
     "output_type": "stream",
     "text": [
      "<class 'pandas.core.frame.DataFrame'>\n",
      "RangeIndex: 4540 entries, 0 to 4539\n",
      "Data columns (total 5 columns):\n",
      " #   Column     Non-Null Count  Dtype  \n",
      "---  ------     --------------  -----  \n",
      " 0   stop_id    4540 non-null   object \n",
      " 1   stop_name  4540 non-null   object \n",
      " 2   stop_lat   4540 non-null   float64\n",
      " 3   stop_lon   4540 non-null   float64\n",
      " 4   zone_id    4540 non-null   int64  \n",
      "dtypes: float64(2), int64(1), object(2)\n",
      "memory usage: 177.5+ KB\n"
     ]
    }
   ],
   "source": [
    "# df_shapes\n",
    "# df_stops\n",
    "# df_shapes[(df_shapes['shape_id'].str.contains('U3'))]['shape_id'].unique()\n",
    "# df_lines\n",
    "df_stops.info()"
   ]
  }
 ],
 "metadata": {
  "kernelspec": {
   "display_name": "machine_learning",
   "language": "python",
   "name": "python3"
  },
  "language_info": {
   "codemirror_mode": {
    "name": "ipython",
    "version": 3
   },
   "file_extension": ".py",
   "mimetype": "text/x-python",
   "name": "python",
   "nbconvert_exporter": "python",
   "pygments_lexer": "ipython3",
   "version": "3.8.18"
  }
 },
 "nbformat": 4,
 "nbformat_minor": 2
}
